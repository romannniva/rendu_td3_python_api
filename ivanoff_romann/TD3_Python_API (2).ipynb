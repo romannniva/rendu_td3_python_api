{
 "cells": [
  {
   "cell_type": "markdown",
   "metadata": {},
   "source": [
    "# Python with APIs\n",
    "Exchanges via HTTP using `requests` package"
   ]
  },
  {
   "cell_type": "code",
   "execution_count": 2,
   "metadata": {},
   "outputs": [],
   "source": [
    "import requests"
   ]
  },
  {
   "cell_type": "markdown",
   "metadata": {},
   "source": [
    "## Example"
   ]
  },
  {
   "cell_type": "markdown",
   "metadata": {},
   "source": [
    "### Agify API"
   ]
  },
  {
   "cell_type": "markdown",
   "metadata": {},
   "source": [
    "Example route for Agify API"
   ]
  },
  {
   "cell_type": "code",
   "execution_count": 2,
   "metadata": {},
   "outputs": [],
   "source": [
    "agify_dan = \"https://api.agify.io/?name=dan\""
   ]
  },
  {
   "cell_type": "markdown",
   "metadata": {},
   "source": [
    "Extract response"
   ]
  },
  {
   "cell_type": "code",
   "execution_count": 4,
   "metadata": {},
   "outputs": [
    {
     "name": "stdout",
     "output_type": "stream",
     "text": [
      "Answer status_code: <Response [200]>\n",
      "<class 'str'>\n",
      "<class 'dict'>\n",
      "{\"count\":67782,\"name\":\"dan\",\"age\":66}\n",
      "{'count': 67782, 'name': 'dan', 'age': 66}\n"
     ]
    }
   ],
   "source": [
    "# Run a GET request\n",
    "agify_answer = requests.get(agify_dan)\n",
    "agify_answer_txt = agify_answer.text\n",
    "agify_answer_json = agify_answer.json()\n",
    "\n",
    "print(f\"Answer status_code: {agify_answer}\")\n",
    "\n",
    "print(type(agify_answer_txt))\n",
    "print(type(agify_answer_json))\n",
    "\n",
    "print(agify_answer_txt)\n",
    "print(agify_answer_json)"
   ]
  },
  {
   "cell_type": "markdown",
   "metadata": {},
   "source": [
    "## Introductory Exercises"
   ]
  },
  {
   "cell_type": "code",
   "execution_count": 5,
   "metadata": {},
   "outputs": [
    {
     "name": "stdout",
     "output_type": "stream",
     "text": [
      "Quel est ton prénom ? Romann\n",
      "Coucou Romann! D'après ton prénom, tu devrais avoir 40 ans et il y a 62 dans le monde.\n"
     ]
    }
   ],
   "source": [
    "# Exercise 1\n",
    "# Write a script that asks the user for their first name\n",
    "# and responds with a personalized message\n",
    "# using the agify API\n",
    "\n",
    "# https://api.agify.io/?name=YOUR_NAME\n",
    "# Example response: {\"name\":\"YOUR_NAME\",\"age\":30,\"count\":12345}\n",
    "\n",
    "first_name = input(\"Quel est ton prénom ? \")\n",
    "url = f\"https://api.agify.io/?name={first_name}\"\n",
    "response = requests.get(url)\n",
    "data = response.json()\n",
    "\n",
    "age = data.get(\"age\", \"inconnu\")\n",
    "count = data.get(\"count\",\"inconnu\")\n",
    "\n",
    "print(f\"Coucou {first_name}! D'après ton prénom, tu devrais avoir {age} ans et il y a {count} dans le monde.\")"
   ]
  },
  {
   "cell_type": "code",
   "execution_count": 8,
   "metadata": {},
   "outputs": [
    {
     "name": "stdout",
     "output_type": "stream",
     "text": [
      "Quel est ton prénom ? Romann\n",
      "Coucou Romann! D'après ton prénom, tu es probablement un/une homme avec une probabilité de 91.00%.\n"
     ]
    }
   ],
   "source": [
    "# Exercise 2\n",
    "# Write a script that asks the user for their first name\n",
    "# and responds with a personalized message\n",
    "# using the genderize API\n",
    "# https://api.genderize.io/?name=YOUR_NAME\n",
    "\n",
    "\n",
    "first_name = input(\"Quel est ton prénom ? \")\n",
    "url = f\"https://api.genderize.io/?name={first_name}\"\n",
    "\n",
    "response = requests.get(url)\n",
    "data = response.json()\n",
    "\n",
    "gender = data.get(\"gender\", \"inconnu\")\n",
    "probability = data.get(\"probability\", 0) * 100  \n",
    "if gender == \"male\":\n",
    "    genre = \"un homme\"\n",
    "else :\n",
    "    genre = \"une femme\"\n",
    "\n",
    "print(f\"Coucou {first_name}! D'après ton prénom, tu es probablement {genre} avec une probabilité de {probability:.2f}%.\")\n"
   ]
  },
  {
   "cell_type": "code",
   "execution_count": 2,
   "metadata": {},
   "outputs": [
    {
     "name": "stdout",
     "output_type": "stream",
     "text": [
      "Quel est ton prénom ? Moctar\n",
      "Coucou Moctar, d'après les registres, les personnes portant votre prénom ont la plus forte probabilité d'être originaires de :\n",
      "MR with a probability of 31.18%\n",
      "NE with a probability of 22.35%\n",
      "ML with a probability of 8.24%\n",
      "SN with a probability of 8.24%\n",
      "CM with a probability of 5.10%\n"
     ]
    }
   ],
   "source": [
    "# Exercise 3\n",
    "# Write a script that asks the user for their first name\n",
    "# and responds with a personalized message\n",
    "# using the nationalize API\n",
    "# https://api.nationalize.io/?name=YOUR_NAME\n",
    "\n",
    "\n",
    "first_name = input(\"Quel est ton prénom ? \")\n",
    "url = f\"https://api.nationalize.io/?name={first_name}\"\n",
    "\n",
    "response = requests.get(url)\n",
    "data = response.json()\n",
    "\n",
    "nationalities = data.get(\"country\", [])\n",
    "\n",
    "# Check if we got any nationality data back\n",
    "if nationalities:\n",
    "    # Print a personalized message with the top nationality predictions\n",
    "    message = f\"Coucou {first_name}, d'après les registres, les personnes portant votre prénom ont la plus forte probabilité d'être originaires de :\"\n",
    "    for country in nationalities:\n",
    "        country_id = country.get('country_id', 'unknown')\n",
    "        probability = country.get('probability', 0) * 100  # Convert to percentage\n",
    "        message += f\"\\n{country_id} with a probability of {probability:.2f}%\"\n",
    "    print(message)"
   ]
  },
  {
   "cell_type": "code",
   "execution_count": 16,
   "metadata": {},
   "outputs": [
    {
     "name": "stdout",
     "output_type": "stream",
     "text": [
      "Quel est ton prénom ? Frederic\n",
      "Coucou Frederic! D'après l'API Nationalize, tu viens probablement de ce pays en particulier : FR avec une probabilité de 17.00%.\n"
     ]
    }
   ],
   "source": [
    "# Exercise 3.1\n",
    "# Parsing the response from the nationalize API\n",
    "# Get the most probable country and its percentage\n",
    "# Example response: {\"name\":\"YOUR_NAME\",\"country\":[{\"country_id\":\"FR\",\"probability\":0.75},{\"country_id\":\"BE\",\"probability\":0.25}]}\n",
    "# Hint: use the max() function with a lambda function\n",
    "# https://docs.python.org/3/library/functions.html#max\n",
    "# https://docs.python.org/3/tutorial/controlflow.html#lambda-expressions\n",
    "\n",
    "first_name = input(\"Quel est ton prénom ? \")\n",
    "url = f\"https://api.nationalize.io/?name={first_name}\"\n",
    "\n",
    "response = requests.get(url)\n",
    "data = response.json()\n",
    "\n",
    "\n",
    "most_probable_country = max(data[\"country\"], key=lambda country: country[\"probability\"])\n",
    "country_id = most_probable_country[\"country_id\"]\n",
    "probability = most_probable_country[\"probability\"] * 100\n",
    "print(f\"Coucou {first_name}! D'après l'API Nationalize, tu viens probablement de ce pays en particulier : {country_id} avec une probabilité de {probability:.2f}%.\")\n",
    "\n",
    "\n"
   ]
  },
  {
   "cell_type": "code",
   "execution_count": 17,
   "metadata": {},
   "outputs": [
    {
     "name": "stdout",
     "output_type": "stream",
     "text": [
      "Activité aléatoire : Start a blog for something you're passionate about\n",
      "Activité aléatoire pour 4 participants : Go to an escape room\n",
      "Activité aléatoire de type 'recreational' pour 4 participants : Go see a Broadway production\n",
      "Activité aléatoire pour 2 participants sans équipement : Compliment someone\n"
     ]
    }
   ],
   "source": [
    "# Exercise 4\n",
    "# Use BoredAPI : https://www.boredapi.com/\n",
    "# Documentation : https://www.boredapi.com/documentation\n",
    "# 1. Write a script that generates random activities\n",
    "# 2. Write a script that generates random activities\n",
    "# 3. Write a script that generates random activities for 4 participants\n",
    "# 4. Write a script that generates random activities for 4 participants and of type \"recreational\"\n",
    "# 5. Write a script that generates random activities for 2 participants and that does not require equipment\n",
    "\n",
    "#1-2\n",
    "response = requests.get(\"https://www.boredapi.com/api/activity\")\n",
    "data = response.json()\n",
    "print(\"Activité aléatoire :\", data[\"activity\"])\n",
    "\n",
    "#3\n",
    "response = requests.get(\"https://www.boredapi.com/api/activity?participants=4\")\n",
    "data = response.json()\n",
    "print(\"Activité aléatoire pour 4 participants :\", data[\"activity\"])\n",
    "\n",
    "#4\n",
    "response = requests.get(\"https://www.boredapi.com/api/activity?participants=4&type=recreational\")\n",
    "data = response.json()\n",
    "print(\"Activité aléatoire de type 'recreational' pour 4 participants :\", data[\"activity\"])\n",
    "\n",
    "#5\n",
    "response = requests.get(\"https://www.boredapi.com/api/activity?participants=2&accessibility=0\")\n",
    "data = response.json()\n",
    "print(\"Activité aléatoire pour 2 participants sans équipement :\", data[\"activity\"])"
   ]
  },
  {
   "cell_type": "markdown",
   "metadata": {},
   "source": [
    "## Intermediate exercises"
   ]
  },
  {
   "cell_type": "code",
   "execution_count": 4,
   "metadata": {},
   "outputs": [
    {
     "name": "stdout",
     "output_type": "stream",
     "text": [
      "Kent\n",
      "Sussex\n",
      "Surrey\n",
      "Hampshire\n",
      "Berkshire\n",
      "Wiltshire\n",
      "Dorset\n",
      "Somerset\n",
      "Devon\n",
      "Cornwall\n",
      "Middlesex\n",
      "Hertfordshire\n",
      "Buckinghamshire\n",
      "Gloucestershire\n",
      "Oxfordshire\n",
      "Worcestershire\n",
      "Herefordshire\n",
      "Cambridgeshire\n",
      "Huntingdonshire\n",
      "Bedfordshire\n",
      "Northamptonshire\n",
      "Leicestershire\n",
      "Warwickshire\n",
      "Staffordshire\n",
      "Shropshire\n",
      "Cheshire\n",
      "Derbyshire\n",
      "Nottinghamshire\n",
      "Rutland\n",
      "Yorkshire\n",
      "Lincolnshire\n",
      "Claims: YB\n",
      "Claims: YC\n",
      "Claims: LC\n",
      "Claims: HC\n",
      "Claims: YS\n",
      "Essex\n",
      "Norfolk\n",
      "Suffolk\n",
      "Lancashire\n"
     ]
    }
   ],
   "source": [
    "# OpenDomesday\n",
    "# https://opendomesday.org/api/\n",
    "\n",
    "# Exercise 1\n",
    "# Write a script that displays all the counties  \n",
    "# using the OpenDomesday API.\n",
    "\n",
    "url = \"https://opendomesday.org/api/1.0/county/\"\n",
    "response = requests.get(url)\n",
    "counties = response.json()\n",
    "for county in counties:\n",
    "    print(county[\"name\"])\n"
   ]
  },
  {
   "cell_type": "code",
   "execution_count": 4,
   "metadata": {},
   "outputs": [
    {
     "name": "stdout",
     "output_type": "stream",
     "text": [
      "Informations sur le comté 'Derbyshire':\n",
      "id: dby\n",
      "name: Derbyshire\n",
      "name_slug: derbyshire\n",
      "places_in_county: [{'id': 1036}, {'id': 2558}, {'id': 3016}, {'id': 4791}, {'id': 6093}, {'id': 8701}, {'id': 8951}, {'id': 9101}, {'id': 11441}, {'id': 10771}, {'id': 16116}, {'id': 20861}, {'id': 22251}, {'id': 22571}, {'id': 22611}, {'id': 24741}, {'id': 25536}, {'id': 19061}, {'id': 30246}, {'id': 31896}, {'id': 32521}, {'id': 32981}, {'id': 33916}, {'id': 41346}, {'id': 41788}, {'id': 41801}, {'id': 45821}, {'id': 47401}, {'id': 47411}, {'id': 52361}, {'id': 52596}, {'id': 53901}, {'id': 54446}, {'id': 54646}, {'id': 55736}, {'id': 56786}, {'id': 57061}, {'id': 60236}, {'id': 60351}, {'id': 60816}, {'id': 63606}, {'id': 65368}, {'id': 73221}, {'id': 73731}, {'id': 73741}, {'id': 91}, {'id': 2623}, {'id': 3011}, {'id': 3941}, {'id': 4046}, {'id': 5016}, {'id': 5676}, {'id': 7111}, {'id': 7116}, {'id': 7451}, {'id': 9056}, {'id': 10981}, {'id': 11656}, {'id': 11941}, {'id': 12751}, {'id': 13401}, {'id': 14081}, {'id': 14306}, {'id': 15306}, {'id': 15451}, {'id': 17386}, {'id': 17811}, {'id': 19611}, {'id': 22436}, {'id': 22476}, {'id': 24011}, {'id': 24306}, {'id': 25081}, {'id': 27521}, {'id': 33816}, {'id': 40056}, {'id': 28311}, {'id': 29846}, {'id': 30061}, {'id': 30211}, {'id': 30536}, {'id': 30571}, {'id': 20391}, {'id': 32571}, {'id': 33016}, {'id': 36211}, {'id': 37586}, {'id': 40057}, {'id': 39661}, {'id': 39956}, {'id': 40466}, {'id': 42799}, {'id': 43751}, {'id': 44321}, {'id': 28296}, {'id': 34241}, {'id': 46861}, {'id': 26971}, {'id': 2366}, {'id': 48026}, {'id': 49236}, {'id': 50311}, {'id': 52766}, {'id': 52791}, {'id': 55006}, {'id': 55131}, {'id': 58231}, {'id': 59051}, {'id': 42936}, {'id': 61396}, {'id': 62566}, {'id': 63721}, {'id': 67724}, {'id': 69701}, {'id': 72781}, {'id': 73841}, {'id': 14941}, {'id': 20691}, {'id': 39371}, {'id': 42171}, {'id': 54526}, {'id': 46681}, {'id': 51241}, {'id': 64663}, {'id': 70526}, {'id': 1326}, {'id': 2401}, {'id': 3291}, {'id': 4001}, {'id': 8116}, {'id': 8831}, {'id': 9461}, {'id': 10196}, {'id': 12706}, {'id': 13281}, {'id': 22243}, {'id': 18184}, {'id': 18736}, {'id': 23231}, {'id': 6141}, {'id': 29236}, {'id': 29861}, {'id': 32336}, {'id': 33086}, {'id': 34446}, {'id': 35221}, {'id': 35041}, {'id': 37056}, {'id': 38231}, {'id': 40456}, {'id': 41344}, {'id': 42041}, {'id': 42046}, {'id': 42797}, {'id': 45553}, {'id': 46851}, {'id': 48266}, {'id': 49221}, {'id': 55881}, {'id': 56826}, {'id': 56941}, {'id': 61526}, {'id': 62731}, {'id': 63966}, {'id': 66911}, {'id': 68251}, {'id': 68481}, {'id': 68546}, {'id': 71226}, {'id': 71466}, {'id': 1136}, {'id': 1456}, {'id': 1596}, {'id': 2106}, {'id': 3163}, {'id': 4646}, {'id': 5396}, {'id': 8456}, {'id': 11731}, {'id': 14476}, {'id': 18001}, {'id': 19416}, {'id': 22741}, {'id': 23256}, {'id': 23731}, {'id': 24921}, {'id': 35046}, {'id': 35311}, {'id': 37656}, {'id': 39466}, {'id': 39566}, {'id': 40901}, {'id': 41658}, {'id': 42536}, {'id': 42741}, {'id': 44361}, {'id': 45893}, {'id': 47416}, {'id': 49901}, {'id': 50661}, {'id': 50806}, {'id': 54966}, {'id': 56216}, {'id': 58701}, {'id': 61046}, {'id': 63391}, {'id': 65696}, {'id': 69008}, {'id': 69081}, {'id': 70641}, {'id': 8956}, {'id': 9586}, {'id': 9611}, {'id': 13741}, {'id': 13806}, {'id': 16581}, {'id': 18621}, {'id': 19941}, {'id': 20101}, {'id': 21051}, {'id': 21326}, {'id': 28556}, {'id': 30666}, {'id': 31306}, {'id': 32361}, {'id': 33141}, {'id': 33376}, {'id': 34646}, {'id': 35946}, {'id': 37591}, {'id': 14686}, {'id': 22266}, {'id': 28563}, {'id': 22271}, {'id': 41006}, {'id': 41521}, {'id': 43091}, {'id': 43991}, {'id': 46746}, {'id': 48806}, {'id': 51961}, {'id': 52096}, {'id': 53806}, {'id': 53996}, {'id': 55576}, {'id': 55956}, {'id': 56606}, {'id': 56696}, {'id': 57526}, {'id': 58046}, {'id': 58196}, {'id': 66498}, {'id': 16166}, {'id': 18951}, {'id': 22546}, {'id': 58356}, {'id': 71196}, {'id': 986}, {'id': 2711}, {'id': 4311}, {'id': 4369}, {'id': 5791}, {'id': 7651}, {'id': 8016}, {'id': 8721}, {'id': 9218}, {'id': 10026}, {'id': 12721}, {'id': 14691}, {'id': 16356}, {'id': 3106}, {'id': 20756}, {'id': 21276}, {'id': 21301}, {'id': 22406}, {'id': 22766}, {'id': 23121}, {'id': 23598}, {'id': 26856}, {'id': 4367}, {'id': 27776}, {'id': 29076}, {'id': 29411}, {'id': 32576}, {'id': 32686}, {'id': 35996}, {'id': 40296}, {'id': 29071}, {'id': 44051}, {'id': 44161}, {'id': 49241}, {'id': 45036}, {'id': 45366}, {'id': 71096}, {'id': 46101}, {'id': 46946}, {'id': 9288}, {'id': 65551}, {'id': 69858}, {'id': 47811}, {'id': 48031}, {'id': 48116}, {'id': 51193}, {'id': 52801}, {'id': 54166}, {'id': 55731}, {'id': 45936}, {'id': 71101}, {'id': 57756}, {'id': 58531}, {'id': 33646}, {'id': 60001}, {'id': 60836}, {'id': 61561}, {'id': 45941}, {'id': 63656}, {'id': 64516}, {'id': 65483}, {'id': 65938}, {'id': 66136}, {'id': 66256}, {'id': 66576}, {'id': 67036}, {'id': 68591}, {'id': 69901}, {'id': 70561}, {'id': 71081}, {'id': 52156}, {'id': 1906}, {'id': 8081}, {'id': 9741}, {'id': 12676}, {'id': 13531}, {'id': 17906}, {'id': 21011}, {'id': 25441}, {'id': 29931}, {'id': 30696}, {'id': 34821}, {'id': 40511}, {'id': 42251}, {'id': 43196}, {'id': 45656}, {'id': 51576}, {'id': 52566}, {'id': 56681}, {'id': 58171}, {'id': 58191}, {'id': 60031}, {'id': 60896}, {'id': 63696}, {'id': 67171}]\n"
     ]
    }
   ],
   "source": [
    "# Exercise 2\n",
    "# Write a script that displays the information\n",
    "# of the county \"Derbyshire\".\n",
    "\n",
    "url = \"https://opendomesday.org/api/1.0/county/dby\"\n",
    "response = requests.get(url)\n",
    "county_info = response.json()\n",
    "print(f\"Informations sur le comté 'Derbyshire':\")\n",
    "for key, value in county_info.items():\n",
    "    print(f\"{key}: {value}\")"
   ]
  },
  {
   "cell_type": "code",
   "execution_count": 5,
   "metadata": {},
   "outputs": [
    {
     "name": "stdout",
     "output_type": "stream",
     "text": [
      "[1036, 2558, 3016, 4791, 6093, 8701, 8951, 9101, 11441, 10771, 16116, 20861, 22251, 22571, 22611, 24741, 25536, 19061, 30246, 31896, 32521, 32981, 33916, 41346, 41788, 41801, 45821, 47401, 47411, 52361, 52596, 53901, 54446, 54646, 55736, 56786, 57061, 60236, 60351, 60816, 63606, 65368, 73221, 73731, 73741, 91, 2623, 3011, 3941, 4046, 5016, 5676, 7111, 7116, 7451, 9056, 10981, 11656, 11941, 12751, 13401, 14081, 14306, 15306, 15451, 17386, 17811, 19611, 22436, 22476, 24011, 24306, 25081, 27521, 33816, 40056, 28311, 29846, 30061, 30211, 30536, 30571, 20391, 32571, 33016, 36211, 37586, 40057, 39661, 39956, 40466, 42799, 43751, 44321, 28296, 34241, 46861, 26971, 2366, 48026, 49236, 50311, 52766, 52791, 55006, 55131, 58231, 59051, 42936, 61396, 62566, 63721, 67724, 69701, 72781, 73841, 14941, 20691, 39371, 42171, 54526, 46681, 51241, 64663, 70526, 1326, 2401, 3291, 4001, 8116, 8831, 9461, 10196, 12706, 13281, 22243, 18184, 18736, 23231, 6141, 29236, 29861, 32336, 33086, 34446, 35221, 35041, 37056, 38231, 40456, 41344, 42041, 42046, 42797, 45553, 46851, 48266, 49221, 55881, 56826, 56941, 61526, 62731, 63966, 66911, 68251, 68481, 68546, 71226, 71466, 1136, 1456, 1596, 2106, 3163, 4646, 5396, 8456, 11731, 14476, 18001, 19416, 22741, 23256, 23731, 24921, 35046, 35311, 37656, 39466, 39566, 40901, 41658, 42536, 42741, 44361, 45893, 47416, 49901, 50661, 50806, 54966, 56216, 58701, 61046, 63391, 65696, 69008, 69081, 70641, 8956, 9586, 9611, 13741, 13806, 16581, 18621, 19941, 20101, 21051, 21326, 28556, 30666, 31306, 32361, 33141, 33376, 34646, 35946, 37591, 14686, 22266, 28563, 22271, 41006, 41521, 43091, 43991, 46746, 48806, 51961, 52096, 53806, 53996, 55576, 55956, 56606, 56696, 57526, 58046, 58196, 66498, 16166, 18951, 22546, 58356, 71196, 986, 2711, 4311, 4369, 5791, 7651, 8016, 8721, 9218, 10026, 12721, 14691, 16356, 3106, 20756, 21276, 21301, 22406, 22766, 23121, 23598, 26856, 4367, 27776, 29076, 29411, 32576, 32686, 35996, 40296, 29071, 44051, 44161, 49241, 45036, 45366, 71096, 46101, 46946, 9288, 65551, 69858, 47811, 48031, 48116, 51193, 52801, 54166, 55731, 45936, 71101, 57756, 58531, 33646, 60001, 60836, 61561, 45941, 63656, 64516, 65483, 65938, 66136, 66256, 66576, 67036, 68591, 69901, 70561, 71081, 52156, 1906, 8081, 9741, 12676, 13531, 17906, 21011, 25441, 29931, 30696, 34821, 40511, 42251, 43196, 45656, 51576, 52566, 56681, 58171, 58191, 60031, 60896, 63696, 67171]\n"
     ]
    }
   ],
   "source": [
    "# La sortie de la réponse de l'API pour 'Derbyshire', déjà stockée dans `county_info`\n",
    "places_in_county = county_info[\"places_in_county\"]\n",
    "\n",
    "# Extraire les identifiants de tous les lieux dans le comté de 'Derbyshire'\n",
    "place_ids = [place[\"id\"] for place in places_in_county]\n",
    "\n",
    "# Maintenant, `place_ids` contient tous les identifiants des lieux de Derbyshire\n",
    "print(place_ids)"
   ]
  },
  {
   "cell_type": "code",
   "execution_count": 8,
   "metadata": {},
   "outputs": [],
   "source": [
    "# Exercise 3\n",
    "# Now that we have the ids for all the places in Derbyshire, we can load all their details...\n",
    "# And from their details, we can list all the details of their manors.\n",
    "# Go fetch the data!\n",
    "# P.S.: remember to save the data to avoid downloading it every time\n",
    "\n",
    "# Dictionnaire pour stocker les détails des lieux\n",
    "places_details = {}\n",
    "# Dictionnaire pour stocker les détails des manoirs\n",
    "manors_details = {}\n",
    "\n",
    "# Parcourir chaque identifiant de lieu pour obtenir ses détails\n",
    "for place_id in place_ids:\n",
    "    if place_id not in places_details:\n",
    "        place_response = requests.get(f\"https://opendomesday.org/api/1.0/place/{place_id}\")\n",
    "        if place_response.status_code == 200:\n",
    "            place_details = place_response.json()\n",
    "            places_details[place_id] = place_details\n",
    "\n",
    "            # Si des manoirs sont associés à ce lieu, obtenir les détails pour chaque manoir\n",
    "            if \"manors\" in place_details:\n",
    "                for manor in place_details[\"manors\"]:\n",
    "                    manor_id = manor[\"id\"]\n",
    "                    if manor_id not in manors_details:\n",
    "                        manor_response = requests.get(f\"https://opendomesday.org/api/1.0/manor/{manor_id}\")\n",
    "                        if manor_response.status_code == 200:\n",
    "                            manor_details = manor_response.json()\n",
    "                            manors_details[manor_id] = manor_details"
   ]
  },
  {
   "cell_type": "code",
   "execution_count": 10,
   "metadata": {},
   "outputs": [
    {
     "name": "stdout",
     "output_type": "stream",
     "text": [
      "{'id': 67171, 'vill': 'Walton [-on-Trent]', 'vill_slug': 'walton-on-trent', 'phillimore': '1,16', 'location': 'SRID=4326;POINT (-1.682815254636647 52.76368061233262)', 'grid': 'SK2118', 'status': None, 'xrefs': None, 'county': [{'id': 'dby'}], 'area': [], 'hundred': [{'id': 'walecros'}], 'manors': [{'id': 12959}]}\n"
     ]
    }
   ],
   "source": [
    "print(place_details)"
   ]
  },
  {
   "cell_type": "code",
   "execution_count": 11,
   "metadata": {},
   "outputs": [
    {
     "name": "stdout",
     "output_type": "stream",
     "text": [
      "{'id': 13182, 'county': {'id': 'dby'}, 'place': [{'id': 63696}], 'phillimore': '14,6', 'headofmanor': 'Repton I', 'duplicates': None, 'subholdings': None, 'notes': None, 'waste': 'none', 'waste66': 'N', 'wasteqr': 'N', 'waste86': 'N', 'geld': 1.0, 'gcode': 'geld', 'villtax': None, 'taxedon': None, 'value86': 0.15, 'value66': None, 'valueqr': None, 'value_string': None, 'render': None, 'lordsland': None, 'newland': None, 'ploughlands': 1.0, 'pcode': 'land for', 'lordsploughs': 1.0, 'mensploughs': 1.0, 'totalploughs': 2.0, 'lordsploughspossible': None, 'mensploughspossible': None, 'villagers': 1.0, 'smallholders': 1.0, 'slaves': 0.0, 'femaleslaves': 0.0, 'freemen': 0.0, 'free2men': 0.0, 'priests': 0.0, 'cottagers': 0.0, 'otherpop': 0.0, 'miscpop': 0.0, 'miscpopcategories': None, 'burgesses': 0.0, 'mills': None, 'millvalue': None, 'meadow': '10', 'meadowunits': 'acres', 'pasture': None, 'pastureunits': None, 'woodland': '1 * 0.5', 'woodlandunits': 'leagues', 'fisheries': None, 'salthouses': None, 'payments': None, 'paymentsunits': None, 'churches': None, 'churchland': None, 'cobs_1086': None, 'cobs_1066': None, 'cattle_1086': None, 'cattle_1066': None, 'cows_1086': None, 'cows_1066': None, 'pigs_1086': None, 'pigs_1066': None, 'sheep_1086': None, 'sheep_1066': None, 'goats_1086': None, 'goats_1066': None, 'beehives_1086': None, 'beehives_1066': None, 'wild_mares_1086': None, 'wild_mares_1066': None, 'other_1086': None, 'other_code_1086': None, 'other_1066': None, 'other_codes_1066': None, 'lord66': [41200], 'overlord66': [], 'lord86': [369100], 'teninchief': [369100], 'image_for_manor': [{'manor': {'id': 13182}, 'x1': 71, 'x2': 780, 'y1': 1037, 'y2': 1276, 'image': 'dby/13.png'}]}\n"
     ]
    }
   ],
   "source": [
    "print(manor_details)"
   ]
  },
  {
   "cell_type": "code",
   "execution_count": null,
   "metadata": {},
   "outputs": [],
   "source": [
    "# Exercise 4\n",
    "# Now that we have a quantity of raw data, we will extract the interesting parts.  \n",
    "# In our case, we want to count the money paid by each manor and compare it to the number of ploughs it has.  \n",
    "# - Can you find the corresponding json fields?  \n",
    "# - Then, you can list these numbers for each manor in Derbyshire.  \n",
    "# - And format this in an appropriate comma-separated values (CSV) file.\n",
    "\n",
    "#######################################################\n",
    "################## YOUR ANSWER HERE ##################\n",
    "#######################################################\n",
    "\n"
   ]
  },
  {
   "cell_type": "code",
   "execution_count": null,
   "metadata": {},
   "outputs": [],
   "source": [
    "# Exercise 5\n",
    "# What is the richest manor in Derbyshire?\n",
    "\n",
    "#######################################################\n",
    "################## YOUR ANSWER HERE ##################\n",
    "#######################################################\n"
   ]
  },
  {
   "cell_type": "code",
   "execution_count": null,
   "metadata": {},
   "outputs": [],
   "source": [
    "# Exercise 6\n",
    "# Give the total value paid by Derbyshire.\n",
    "\n",
    "#######################################################\n",
    "################## YOUR ANSWER HERE ##################\n",
    "#######################################################\n"
   ]
  },
  {
   "cell_type": "code",
   "execution_count": null,
   "metadata": {},
   "outputs": [],
   "source": [
    "# Exercise 7\n",
    "# Create a Python class.  \n",
    "# It must include all the previous functionalities.  \n",
    "# Refactor your code to make it readable, efficient, and maintainable.\n",
    "\n",
    "#######################################################\n",
    "################## YOUR ANSWER HERE ##################\n",
    "#######################################################\n"
   ]
  },
  {
   "cell_type": "code",
   "execution_count": null,
   "metadata": {},
   "outputs": [],
   "source": [
    "# Exercise 8 (optional)\n",
    "# Add to your class a system for error handling.  \n",
    "# It must manage the following errors:  \n",
    "# - Connection error  \n",
    "# - Parsing error  \n",
    "# - Request error  \n",
    "# - Response error  \n",
    "# - Parameter error\n",
    "\n",
    "#######################################################\n",
    "################## YOUR ANSWER HERE ##################\n",
    "#######################################################\n",
    "\n"
   ]
  }
 ],
 "metadata": {
  "kernelspec": {
   "display_name": "Python 3 (ipykernel)",
   "language": "python",
   "name": "python3"
  },
  "language_info": {
   "codemirror_mode": {
    "name": "ipython",
    "version": 3
   },
   "file_extension": ".py",
   "mimetype": "text/x-python",
   "name": "python",
   "nbconvert_exporter": "python",
   "pygments_lexer": "ipython3",
   "version": "3.10.9"
  }
 },
 "nbformat": 4,
 "nbformat_minor": 2
}
